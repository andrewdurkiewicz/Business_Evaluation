{
 "cells": [
  {
   "cell_type": "code",
   "execution_count": 10,
   "metadata": {
    "collapsed": true
   },
   "outputs": [],
   "source": [
    "import numpy as np\n"
   ]
  },
  {
   "cell_type": "code",
   "execution_count": 74,
   "metadata": {
    "collapsed": false
   },
   "outputs": [
    {
     "name": "stdout",
     "output_type": "stream",
     "text": [
      "[-1.11 -1.03 -0.93] [-0.96 -0.96 -0.99]\n"
     ]
    }
   ],
   "source": [
    "alpha = np.radians([8.35,15.63,23.14])\n",
    "beta = np.radians(np.array ([7.38, 13.89,20.60]))\n",
    "h = 4.1357e-15 \n",
    "c = 3e8\n",
    "d = 2.82e-10\n",
    "R_alpha = np.radians([7.24,14.60,22.21])\n",
    "R_beta  = np.radians([6.42,12.93,19.61])\n",
    "Error_a = R_alpha - alpha\n",
    "Error_b = R_beta  - beta\n",
    "Error_account1 = alpha - np.deg2rad(1)\n",
    "Error_account2 = beta  - np.deg2rad(1)\n",
    "print(np.rad2deg(Error_a),np.rad2deg(Error_b))\n"
   ]
  },
  {
   "cell_type": "code",
   "execution_count": 75,
   "metadata": {
    "collapsed": false
   },
   "outputs": [],
   "source": [
    "n = np.array([1,2,3])"
   ]
  },
  {
   "cell_type": "code",
   "execution_count": 76,
   "metadata": {
    "collapsed": false
   },
   "outputs": [],
   "source": [
    "E_exp1 = (n * h * c )/ (2 * d * np.sin(alpha))\n",
    "E_exp2 = (n * h * c )/ (2 * d * np.sin(beta))\n",
    "E_true1 = (n * h * c) / (2*d*np.sin(R_alpha))\n",
    "E_true2 = (n * h * c) / (2*d*np.sin(R_beta))\n",
    "Fix1 = E_exp1 = (n * h * c )/ (2 * d * np.sin(Error_account1))\n",
    "Fix2 = E_exp1 = (n * h * c )/ (2 * d * np.sin(Error_account2))\n",
    "\n"
   ]
  },
  {
   "cell_type": "code",
   "execution_count": 86,
   "metadata": {
    "collapsed": false
   },
   "outputs": [
    {
     "ename": "SyntaxError",
     "evalue": "invalid syntax (<ipython-input-86-060926f3aa0f>, line 1)",
     "output_type": "error",
     "traceback": [
      "\u001b[0;36m  File \u001b[0;32m\"<ipython-input-86-060926f3aa0f>\"\u001b[0;36m, line \u001b[0;32m1\u001b[0m\n\u001b[0;31m    print(\"K(alpha): ,\" E_exp1) #These are the values of our K_alpha and K_beta experimentally....WRONG! Leftr is alpha, right is beta\u001b[0m\n\u001b[0m                             ^\u001b[0m\n\u001b[0;31mSyntaxError\u001b[0m\u001b[0;31m:\u001b[0m invalid syntax\n"
     ]
    }
   ],
   "source": [
    "print(\"K(alpha): , E_exp1) #These are the values of our K_alpha and K_beta experimentally....WRONG! Leftr is alpha, right is beta"
   ]
  },
  {
   "cell_type": "code",
   "execution_count": 78,
   "metadata": {
    "collapsed": false
   },
   "outputs": [
    {
     "name": "stdout",
     "output_type": "stream",
     "text": [
      "[ 17455.47266749  17454.24704426  17458.94125602] [ 19673.78593779  19662.45810854  19663.90630299]\n"
     ]
    }
   ],
   "source": [
    "print(E_true1,E_true2) # These are the 'theoretical' perfect values"
   ]
  },
  {
   "cell_type": "code",
   "execution_count": 79,
   "metadata": {
    "collapsed": false
   },
   "outputs": [
    {
     "name": "stdout",
     "output_type": "stream",
     "text": [
      "[ 17195.63686238  17419.23456588  17511.3529411 ] [ 19796.61752917  19722.43658345  19673.54417661]\n"
     ]
    }
   ],
   "source": [
    "print(Fix1, Fix2) # these are the values after degrees are corrected. "
   ]
  },
  {
   "cell_type": "code",
   "execution_count": null,
   "metadata": {
    "collapsed": false
   },
   "outputs": [],
   "source": [
    "\n"
   ]
  },
  {
   "cell_type": "code",
   "execution_count": null,
   "metadata": {
    "collapsed": true
   },
   "outputs": [],
   "source": []
  },
  {
   "cell_type": "code",
   "execution_count": null,
   "metadata": {
    "collapsed": true
   },
   "outputs": [],
   "source": []
  },
  {
   "cell_type": "code",
   "execution_count": null,
   "metadata": {
    "collapsed": true
   },
   "outputs": [],
   "source": []
  },
  {
   "cell_type": "code",
   "execution_count": null,
   "metadata": {
    "collapsed": true
   },
   "outputs": [],
   "source": []
  },
  {
   "cell_type": "code",
   "execution_count": null,
   "metadata": {
    "collapsed": true
   },
   "outputs": [],
   "source": []
  },
  {
   "cell_type": "code",
   "execution_count": null,
   "metadata": {
    "collapsed": true
   },
   "outputs": [],
   "source": [
    "d"
   ]
  }
 ],
 "metadata": {
  "kernelspec": {
   "display_name": "Python 3",
   "language": "python",
   "name": "python3"
  },
  "language_info": {
   "codemirror_mode": {
    "name": "ipython",
    "version": 3
   },
   "file_extension": ".py",
   "mimetype": "text/x-python",
   "name": "python",
   "nbconvert_exporter": "python",
   "pygments_lexer": "ipython3",
   "version": "3.5.1"
  }
 },
 "nbformat": 4,
 "nbformat_minor": 0
}
